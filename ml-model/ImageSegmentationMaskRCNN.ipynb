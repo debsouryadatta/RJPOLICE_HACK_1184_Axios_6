{
 "cells": [
  {
   "cell_type": "code",
   "execution_count": 1,
   "id": "c6fc7b54",
   "metadata": {},
   "outputs": [
    {
     "name": "stdout",
     "output_type": "stream",
     "text": [
      "Requirement already satisfied: pixellib in c:\\users\\anshu\\appdata\\local\\programs\\python\\python310\\lib\\site-packages (0.7.1)\n",
      "Requirement already satisfied: hydra-core in c:\\users\\anshu\\appdata\\local\\programs\\python\\python310\\lib\\site-packages (from pixellib) (1.3.2)\n",
      "Requirement already satisfied: omegaconf in c:\\users\\anshu\\appdata\\local\\programs\\python\\python310\\lib\\site-packages (from pixellib) (2.3.0)\n",
      "Requirement already satisfied: pyQt5 in c:\\users\\anshu\\appdata\\local\\programs\\python\\python310\\lib\\site-packages (from pixellib) (5.15.10)\n",
      "Requirement already satisfied: fvcore in c:\\users\\anshu\\appdata\\local\\programs\\python\\python310\\lib\\site-packages (from pixellib) (0.1.5.post20221221)\n",
      "Requirement already satisfied: labelme2coco in c:\\users\\anshu\\appdata\\local\\programs\\python\\python310\\lib\\site-packages (from pixellib) (0.2.4)\n",
      "Requirement already satisfied: black in c:\\users\\anshu\\appdata\\local\\programs\\python\\python310\\lib\\site-packages (from pixellib) (23.12.0)\n",
      "Requirement already satisfied: pydot in c:\\users\\anshu\\appdata\\local\\programs\\python\\python310\\lib\\site-packages (from pixellib) (1.4.2)\n",
      "Requirement already satisfied: iopath in c:\\users\\anshu\\appdata\\local\\programs\\python\\python310\\lib\\site-packages (from pixellib) (0.1.10)\n",
      "Requirement already satisfied: cloudpickle in c:\\users\\anshu\\appdata\\local\\programs\\python\\python310\\lib\\site-packages (from pixellib) (3.0.0)\n",
      "Requirement already satisfied: scikit-image in c:\\users\\anshu\\appdata\\local\\programs\\python\\python310\\lib\\site-packages (from pixellib) (0.22.0)\n",
      "Requirement already satisfied: future in c:\\users\\anshu\\appdata\\local\\programs\\python\\python310\\lib\\site-packages (from pixellib) (0.18.3)\n",
      "Requirement already satisfied: dataclasses in c:\\users\\anshu\\appdata\\local\\programs\\python\\python310\\lib\\site-packages (from pixellib) (0.6)\n",
      "Requirement already satisfied: imantics in c:\\users\\anshu\\appdata\\local\\programs\\python\\python310\\lib\\site-packages (from pixellib) (0.1.12)\n",
      "Requirement already satisfied: opencv-python in c:\\users\\anshu\\appdata\\local\\programs\\python\\python310\\lib\\site-packages (from pixellib) (4.7.0.72)\n",
      "Requirement already satisfied: Cython in c:\\users\\anshu\\appdata\\local\\programs\\python\\python310\\lib\\site-packages (from pixellib) (3.0.6)\n",
      "Requirement already satisfied: tqdm in c:\\users\\anshu\\appdata\\local\\programs\\python\\python310\\lib\\site-packages (from pixellib) (4.65.0)\n",
      "Requirement already satisfied: yacs in c:\\users\\anshu\\appdata\\local\\programs\\python\\python310\\lib\\site-packages (from pixellib) (0.1.8)\n",
      "Requirement already satisfied: termcolor in c:\\users\\anshu\\appdata\\local\\programs\\python\\python310\\lib\\site-packages (from pixellib) (2.2.0)\n",
      "Requirement already satisfied: matplotlib in c:\\users\\anshu\\appdata\\local\\programs\\python\\python310\\lib\\site-packages (from pixellib) (3.5.2)\n",
      "Requirement already satisfied: pillow in c:\\users\\anshu\\appdata\\local\\programs\\python\\python310\\lib\\site-packages (from pixellib) (9.2.0)\n",
      "Requirement already satisfied: tabulate in c:\\users\\anshu\\appdata\\local\\programs\\python\\python310\\lib\\site-packages (from pixellib) (0.9.0)\n",
      "Requirement already satisfied: imgaug in c:\\users\\anshu\\appdata\\local\\programs\\python\\python310\\lib\\site-packages (from pixellib) (0.4.0)\n",
      "Requirement already satisfied: packaging>=22.0 in c:\\users\\anshu\\appdata\\local\\programs\\python\\python310\\lib\\site-packages (from black->pixellib) (23.2)\n",
      "Requirement already satisfied: pathspec>=0.9.0 in c:\\users\\anshu\\appdata\\local\\programs\\python\\python310\\lib\\site-packages (from black->pixellib) (0.12.1)\n",
      "Requirement already satisfied: tomli>=1.1.0 in c:\\users\\anshu\\appdata\\local\\programs\\python\\python310\\lib\\site-packages (from black->pixellib) (2.0.1)\n",
      "Requirement already satisfied: typing-extensions>=4.0.1 in c:\\users\\anshu\\appdata\\local\\programs\\python\\python310\\lib\\site-packages (from black->pixellib) (4.5.0)\n",
      "Requirement already satisfied: click>=8.0.0 in c:\\users\\anshu\\appdata\\local\\programs\\python\\python310\\lib\\site-packages (from black->pixellib) (8.1.7)\n",
      "Requirement already satisfied: mypy-extensions>=0.4.3 in c:\\users\\anshu\\appdata\\local\\programs\\python\\python310\\lib\\site-packages (from black->pixellib) (1.0.0)\n",
      "Requirement already satisfied: platformdirs>=2 in c:\\users\\anshu\\appdata\\local\\programs\\python\\python310\\lib\\site-packages (from black->pixellib) (2.6.0)\n",
      "Requirement already satisfied: numpy in c:\\users\\anshu\\appdata\\local\\programs\\python\\python310\\lib\\site-packages (from fvcore->pixellib) (1.22.3)\n",
      "Requirement already satisfied: pyyaml>=5.1 in c:\\users\\anshu\\appdata\\local\\programs\\python\\python310\\lib\\site-packages (from fvcore->pixellib) (6.0)\n",
      "Requirement already satisfied: portalocker in c:\\users\\anshu\\appdata\\local\\programs\\python\\python310\\lib\\site-packages (from iopath->pixellib) (2.8.2)\n",
      "Requirement already satisfied: antlr4-python3-runtime==4.9.* in c:\\users\\anshu\\appdata\\local\\programs\\python\\python310\\lib\\site-packages (from hydra-core->pixellib) (4.9.3)\n",
      "Requirement already satisfied: lxml in c:\\users\\anshu\\appdata\\local\\programs\\python\\python310\\lib\\site-packages (from imantics->pixellib) (4.9.3)\n",
      "Requirement already satisfied: xmljson in c:\\users\\anshu\\appdata\\local\\programs\\python\\python310\\lib\\site-packages (from imantics->pixellib) (0.2.1)\n",
      "Requirement already satisfied: six in c:\\users\\anshu\\appdata\\local\\programs\\python\\python310\\lib\\site-packages (from imgaug->pixellib) (1.16.0)\n",
      "Requirement already satisfied: Shapely in c:\\users\\anshu\\appdata\\local\\programs\\python\\python310\\lib\\site-packages (from imgaug->pixellib) (2.0.2)\n",
      "Requirement already satisfied: scipy in c:\\users\\anshu\\appdata\\local\\programs\\python\\python310\\lib\\site-packages (from imgaug->pixellib) (1.8.0)\n",
      "Requirement already satisfied: imageio in c:\\users\\anshu\\appdata\\local\\programs\\python\\python310\\lib\\site-packages (from imgaug->pixellib) (2.33.1)\n",
      "Requirement already satisfied: lazy_loader>=0.3 in c:\\users\\anshu\\appdata\\local\\programs\\python\\python310\\lib\\site-packages (from scikit-image->pixellib) (0.3)\n",
      "Requirement already satisfied: networkx>=2.8 in c:\\users\\anshu\\appdata\\local\\programs\\python\\python310\\lib\\site-packages (from scikit-image->pixellib) (3.2.1)\n",
      "Requirement already satisfied: tifffile>=2022.8.12 in c:\\users\\anshu\\appdata\\local\\programs\\python\\python310\\lib\\site-packages (from scikit-image->pixellib) (2023.12.9)\n",
      "Requirement already satisfied: sahi>=0.8.19 in c:\\users\\anshu\\appdata\\local\\programs\\python\\python310\\lib\\site-packages (from labelme2coco->pixellib) (0.11.15)\n",
      "Requirement already satisfied: jsonschema>=2.6.0 in c:\\users\\anshu\\appdata\\local\\programs\\python\\python310\\lib\\site-packages (from labelme2coco->pixellib) (4.17.3)\n",
      "Requirement already satisfied: kiwisolver>=1.0.1 in c:\\users\\anshu\\appdata\\local\\programs\\python\\python310\\lib\\site-packages (from matplotlib->pixellib) (1.4.4)\n",
      "Requirement already satisfied: pyparsing>=2.2.1 in c:\\users\\anshu\\appdata\\local\\programs\\python\\python310\\lib\\site-packages (from matplotlib->pixellib) (3.0.9)\n",
      "Requirement already satisfied: cycler>=0.10 in c:\\users\\anshu\\appdata\\local\\programs\\python\\python310\\lib\\site-packages (from matplotlib->pixellib) (0.11.0)\n",
      "Requirement already satisfied: fonttools>=4.22.0 in c:\\users\\anshu\\appdata\\local\\programs\\python\\python310\\lib\\site-packages (from matplotlib->pixellib) (4.34.4)\n",
      "Requirement already satisfied: python-dateutil>=2.7 in c:\\users\\anshu\\appdata\\local\\programs\\python\\python310\\lib\\site-packages (from matplotlib->pixellib) (2.8.2)\n",
      "Requirement already satisfied: PyQt5-Qt5>=5.15.2 in c:\\users\\anshu\\appdata\\local\\programs\\python\\python310\\lib\\site-packages (from pyQt5->pixellib) (5.15.2)\n",
      "Requirement already satisfied: PyQt5-sip<13,>=12.13 in c:\\users\\anshu\\appdata\\local\\programs\\python\\python310\\lib\\site-packages (from pyQt5->pixellib) (12.13.0)\n",
      "Requirement already satisfied: colorama in c:\\users\\anshu\\appdata\\local\\programs\\python\\python310\\lib\\site-packages (from tqdm->pixellib) (0.4.4)\n",
      "Requirement already satisfied: attrs>=17.4.0 in c:\\users\\anshu\\appdata\\local\\programs\\python\\python310\\lib\\site-packages (from jsonschema>=2.6.0->labelme2coco->pixellib) (21.4.0)\n",
      "Requirement already satisfied: pyrsistent!=0.17.0,!=0.17.1,!=0.17.2,>=0.14.0 in c:\\users\\anshu\\appdata\\local\\programs\\python\\python310\\lib\\site-packages (from jsonschema>=2.6.0->labelme2coco->pixellib) (0.18.1)\n",
      "Requirement already satisfied: pybboxes==0.1.6 in c:\\users\\anshu\\appdata\\local\\programs\\python\\python310\\lib\\site-packages (from sahi>=0.8.19->labelme2coco->pixellib) (0.1.6)\n",
      "Requirement already satisfied: requests in c:\\users\\anshu\\appdata\\local\\programs\\python\\python310\\lib\\site-packages (from sahi>=0.8.19->labelme2coco->pixellib) (2.28.2)\n",
      "Requirement already satisfied: fire in c:\\users\\anshu\\appdata\\local\\programs\\python\\python310\\lib\\site-packages (from sahi>=0.8.19->labelme2coco->pixellib) (0.5.0)\n",
      "Requirement already satisfied: terminaltables in c:\\users\\anshu\\appdata\\local\\programs\\python\\python310\\lib\\site-packages (from sahi>=0.8.19->labelme2coco->pixellib) (3.1.10)\n",
      "Requirement already satisfied: pywin32>=226 in c:\\users\\anshu\\appdata\\local\\programs\\python\\python310\\lib\\site-packages (from portalocker->iopath->pixellib) (304)\n",
      "Requirement already satisfied: certifi>=2017.4.17 in c:\\users\\anshu\\appdata\\local\\programs\\python\\python310\\lib\\site-packages (from requests->sahi>=0.8.19->labelme2coco->pixellib) (2022.12.7)\n",
      "Requirement already satisfied: urllib3<1.27,>=1.21.1 in c:\\users\\anshu\\appdata\\local\\programs\\python\\python310\\lib\\site-packages (from requests->sahi>=0.8.19->labelme2coco->pixellib) (1.26.15)\n",
      "Requirement already satisfied: charset-normalizer<4,>=2 in c:\\users\\anshu\\appdata\\local\\programs\\python\\python310\\lib\\site-packages (from requests->sahi>=0.8.19->labelme2coco->pixellib) (3.1.0)\n",
      "Requirement already satisfied: idna<4,>=2.5 in c:\\users\\anshu\\appdata\\local\\programs\\python\\python310\\lib\\site-packages (from requests->sahi>=0.8.19->labelme2coco->pixellib) (3.4)\n"
     ]
    },
    {
     "name": "stderr",
     "output_type": "stream",
     "text": [
      "\n",
      "[notice] A new release of pip available: 22.3.1 -> 23.3.2\n",
      "[notice] To update, run: python.exe -m pip install --upgrade pip\n"
     ]
    }
   ],
   "source": [
    "!pip install pixellib"
   ]
  },
  {
   "cell_type": "code",
   "execution_count": 2,
   "id": "5befcb26",
   "metadata": {},
   "outputs": [],
   "source": [
    "import pixellib\n",
    "from pixellib.instance import instance_segmentation\n",
    "import cv2"
   ]
  },
  {
   "cell_type": "code",
   "execution_count": 4,
   "id": "2c39e50b",
   "metadata": {},
   "outputs": [
    {
     "name": "stdout",
     "output_type": "stream",
     "text": [
      "WARNING:tensorflow:From C:\\Users\\anshu\\AppData\\Local\\Programs\\Python\\Python310\\lib\\site-packages\\tensorflow\\python\\util\\deprecation.py:648: calling map_fn_v2 (from tensorflow.python.ops.map_fn) with dtype is deprecated and will be removed in a future version.\n",
      "Instructions for updating:\n",
      "Use fn_output_signature instead\n"
     ]
    }
   ],
   "source": [
    "model = instance_segmentation()\n",
    "model.load_model('mask_rcnn_coco _1.h5')"
   ]
  },
  {
   "cell_type": "code",
   "execution_count": 6,
   "id": "1597c623",
   "metadata": {},
   "outputs": [
    {
     "name": "stderr",
     "output_type": "stream",
     "text": [
      "C:\\Users\\anshu\\AppData\\Local\\Programs\\Python\\Python310\\lib\\site-packages\\keras\\engine\\training_v1.py:2359: UserWarning: `Model.state_updates` will be removed in a future version. This property should not be used in TensorFlow 2.0, as `updates` are applied automatically.\n",
      "  updates=self.state_updates,\n"
     ]
    }
   ],
   "source": [
    "cam = cv2.VideoCapture(0)\n",
    "while(cam.isOpened()):\n",
    "    ret,frame=cam.read()\n",
    "    res = model.segmentFrame(frame,show_bboxes=True)\n",
    "    image = res[1]\n",
    "    cv2.imshow(\"Image Segmentation\",image)\n",
    "    if(cv2.waitKey(10)==ord('q') ):\n",
    "        break;\n",
    "cam.release()\n",
    "cv2.destroyAllWindows()"
   ]
  }
 ],
 "metadata": {
  "kernelspec": {
   "display_name": "Python 3 (ipykernel)",
   "language": "python",
   "name": "python3"
  },
  "language_info": {
   "codemirror_mode": {
    "name": "ipython",
    "version": 3
   },
   "file_extension": ".py",
   "mimetype": "text/x-python",
   "name": "python",
   "nbconvert_exporter": "python",
   "pygments_lexer": "ipython3",
   "version": "3.10.3"
  }
 },
 "nbformat": 4,
 "nbformat_minor": 5
}
